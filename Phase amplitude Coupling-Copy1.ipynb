{
 "cells": [
  {
   "cell_type": "code",
   "execution_count": 1,
   "metadata": {},
   "outputs": [],
   "source": [
    "# make the imports\n",
    "%matplotlib inline\n",
    "import matplotlib.pyplot as plt\n",
    "import numpy as np\n",
    "from scipy import io, signal"
   ]
  },
  {
   "cell_type": "code",
   "execution_count": 2,
   "metadata": {},
   "outputs": [
    {
     "ename": "FileNotFoundError",
     "evalue": "[Errno 2] No such file or directory: 'ECoG_monkey/ECoG_monkey.mat'",
     "output_type": "error",
     "traceback": [
      "\u001b[0;31m---------------------------------------------------------------------------\u001b[0m",
      "\u001b[0;31mFileNotFoundError\u001b[0m                         Traceback (most recent call last)",
      "\u001b[0;32m/anaconda3/lib/python3.6/site-packages/scipy/io/matlab/mio.py\u001b[0m in \u001b[0;36m_open_file\u001b[0;34m(file_like, appendmat)\u001b[0m\n\u001b[1;32m     32\u001b[0m     \u001b[0;32mtry\u001b[0m\u001b[0;34m:\u001b[0m\u001b[0;34m\u001b[0m\u001b[0m\n\u001b[0;32m---> 33\u001b[0;31m         \u001b[0;32mreturn\u001b[0m \u001b[0mopen\u001b[0m\u001b[0;34m(\u001b[0m\u001b[0mfile_like\u001b[0m\u001b[0;34m,\u001b[0m \u001b[0;34m'rb'\u001b[0m\u001b[0;34m)\u001b[0m\u001b[0;34m,\u001b[0m \u001b[0;32mTrue\u001b[0m\u001b[0;34m\u001b[0m\u001b[0m\n\u001b[0m\u001b[1;32m     34\u001b[0m     \u001b[0;32mexcept\u001b[0m \u001b[0mIOError\u001b[0m\u001b[0;34m:\u001b[0m\u001b[0;34m\u001b[0m\u001b[0m\n",
      "\u001b[0;31mFileNotFoundError\u001b[0m: [Errno 2] No such file or directory: 'ECoG_monkey/ECoG_monkey.mat'",
      "\nDuring handling of the above exception, another exception occurred:\n",
      "\u001b[0;31mFileNotFoundError\u001b[0m                         Traceback (most recent call last)",
      "\u001b[0;32m<ipython-input-2-44cd71479ffb>\u001b[0m in \u001b[0;36m<module>\u001b[0;34m()\u001b[0m\n\u001b[0;32m----> 1\u001b[0;31m \u001b[0mmonkey_ecog_data\u001b[0m \u001b[0;34m=\u001b[0m \u001b[0mio\u001b[0m\u001b[0;34m.\u001b[0m\u001b[0mloadmat\u001b[0m\u001b[0;34m(\u001b[0m\u001b[0;34m'ECoG_monkey/ECoG_monkey.mat'\u001b[0m\u001b[0;34m,\u001b[0m \u001b[0msqueeze_me\u001b[0m \u001b[0;34m=\u001b[0m \u001b[0;32mTrue\u001b[0m\u001b[0;34m)\u001b[0m\u001b[0;34m\u001b[0m\u001b[0m\n\u001b[0m\u001b[1;32m      2\u001b[0m \u001b[0mprint\u001b[0m\u001b[0;34m(\u001b[0m\u001b[0mmonkey_ecog_data\u001b[0m\u001b[0;34m.\u001b[0m\u001b[0mkeys\u001b[0m\u001b[0;34m(\u001b[0m\u001b[0;34m)\u001b[0m\u001b[0;34m)\u001b[0m\u001b[0;34m\u001b[0m\u001b[0m\n\u001b[1;32m      3\u001b[0m \u001b[0mprint\u001b[0m\u001b[0;34m(\u001b[0m\u001b[0mmonkey_ecog_data\u001b[0m\u001b[0;34m[\u001b[0m\u001b[0;34m'fs'\u001b[0m\u001b[0;34m]\u001b[0m\u001b[0;34m)\u001b[0m\u001b[0;34m\u001b[0m\u001b[0m\n\u001b[1;32m      4\u001b[0m \u001b[0mprint\u001b[0m\u001b[0;34m(\u001b[0m\u001b[0mmonkey_ecog_data\u001b[0m\u001b[0;34m[\u001b[0m\u001b[0;34m'ecog_eyesopen'\u001b[0m\u001b[0;34m]\u001b[0m\u001b[0;34m.\u001b[0m\u001b[0mshape\u001b[0m\u001b[0;34m)\u001b[0m\u001b[0;34m\u001b[0m\u001b[0m\n\u001b[1;32m      5\u001b[0m \u001b[0mprint\u001b[0m\u001b[0;34m(\u001b[0m\u001b[0mmonkey_ecog_data\u001b[0m\u001b[0;34m[\u001b[0m\u001b[0;34m'labels'\u001b[0m\u001b[0;34m]\u001b[0m\u001b[0;34m)\u001b[0m\u001b[0;34m\u001b[0m\u001b[0m\n",
      "\u001b[0;32m/anaconda3/lib/python3.6/site-packages/scipy/io/matlab/mio.py\u001b[0m in \u001b[0;36mloadmat\u001b[0;34m(file_name, mdict, appendmat, **kwargs)\u001b[0m\n\u001b[1;32m    139\u001b[0m     \"\"\"\n\u001b[1;32m    140\u001b[0m     \u001b[0mvariable_names\u001b[0m \u001b[0;34m=\u001b[0m \u001b[0mkwargs\u001b[0m\u001b[0;34m.\u001b[0m\u001b[0mpop\u001b[0m\u001b[0;34m(\u001b[0m\u001b[0;34m'variable_names'\u001b[0m\u001b[0;34m,\u001b[0m \u001b[0;32mNone\u001b[0m\u001b[0;34m)\u001b[0m\u001b[0;34m\u001b[0m\u001b[0m\n\u001b[0;32m--> 141\u001b[0;31m     \u001b[0mMR\u001b[0m\u001b[0;34m,\u001b[0m \u001b[0mfile_opened\u001b[0m \u001b[0;34m=\u001b[0m \u001b[0mmat_reader_factory\u001b[0m\u001b[0;34m(\u001b[0m\u001b[0mfile_name\u001b[0m\u001b[0;34m,\u001b[0m \u001b[0mappendmat\u001b[0m\u001b[0;34m,\u001b[0m \u001b[0;34m**\u001b[0m\u001b[0mkwargs\u001b[0m\u001b[0;34m)\u001b[0m\u001b[0;34m\u001b[0m\u001b[0m\n\u001b[0m\u001b[1;32m    142\u001b[0m     \u001b[0mmatfile_dict\u001b[0m \u001b[0;34m=\u001b[0m \u001b[0mMR\u001b[0m\u001b[0;34m.\u001b[0m\u001b[0mget_variables\u001b[0m\u001b[0;34m(\u001b[0m\u001b[0mvariable_names\u001b[0m\u001b[0;34m)\u001b[0m\u001b[0;34m\u001b[0m\u001b[0m\n\u001b[1;32m    143\u001b[0m     \u001b[0;32mif\u001b[0m \u001b[0mmdict\u001b[0m \u001b[0;32mis\u001b[0m \u001b[0;32mnot\u001b[0m \u001b[0;32mNone\u001b[0m\u001b[0;34m:\u001b[0m\u001b[0;34m\u001b[0m\u001b[0m\n",
      "\u001b[0;32m/anaconda3/lib/python3.6/site-packages/scipy/io/matlab/mio.py\u001b[0m in \u001b[0;36mmat_reader_factory\u001b[0;34m(file_name, appendmat, **kwargs)\u001b[0m\n\u001b[1;32m     62\u001b[0m \u001b[0;34m\u001b[0m\u001b[0m\n\u001b[1;32m     63\u001b[0m     \"\"\"\n\u001b[0;32m---> 64\u001b[0;31m     \u001b[0mbyte_stream\u001b[0m\u001b[0;34m,\u001b[0m \u001b[0mfile_opened\u001b[0m \u001b[0;34m=\u001b[0m \u001b[0m_open_file\u001b[0m\u001b[0;34m(\u001b[0m\u001b[0mfile_name\u001b[0m\u001b[0;34m,\u001b[0m \u001b[0mappendmat\u001b[0m\u001b[0;34m)\u001b[0m\u001b[0;34m\u001b[0m\u001b[0m\n\u001b[0m\u001b[1;32m     65\u001b[0m     \u001b[0mmjv\u001b[0m\u001b[0;34m,\u001b[0m \u001b[0mmnv\u001b[0m \u001b[0;34m=\u001b[0m \u001b[0mget_matfile_version\u001b[0m\u001b[0;34m(\u001b[0m\u001b[0mbyte_stream\u001b[0m\u001b[0;34m)\u001b[0m\u001b[0;34m\u001b[0m\u001b[0m\n\u001b[1;32m     66\u001b[0m     \u001b[0;32mif\u001b[0m \u001b[0mmjv\u001b[0m \u001b[0;34m==\u001b[0m \u001b[0;36m0\u001b[0m\u001b[0;34m:\u001b[0m\u001b[0;34m\u001b[0m\u001b[0m\n",
      "\u001b[0;32m/anaconda3/lib/python3.6/site-packages/scipy/io/matlab/mio.py\u001b[0m in \u001b[0;36m_open_file\u001b[0;34m(file_like, appendmat)\u001b[0m\n\u001b[1;32m     37\u001b[0m             \u001b[0;32mif\u001b[0m \u001b[0mappendmat\u001b[0m \u001b[0;32mand\u001b[0m \u001b[0;32mnot\u001b[0m \u001b[0mfile_like\u001b[0m\u001b[0;34m.\u001b[0m\u001b[0mendswith\u001b[0m\u001b[0;34m(\u001b[0m\u001b[0;34m'.mat'\u001b[0m\u001b[0;34m)\u001b[0m\u001b[0;34m:\u001b[0m\u001b[0;34m\u001b[0m\u001b[0m\n\u001b[1;32m     38\u001b[0m                 \u001b[0mfile_like\u001b[0m \u001b[0;34m+=\u001b[0m \u001b[0;34m'.mat'\u001b[0m\u001b[0;34m\u001b[0m\u001b[0m\n\u001b[0;32m---> 39\u001b[0;31m             \u001b[0;32mreturn\u001b[0m \u001b[0mopen\u001b[0m\u001b[0;34m(\u001b[0m\u001b[0mfile_like\u001b[0m\u001b[0;34m,\u001b[0m \u001b[0;34m'rb'\u001b[0m\u001b[0;34m)\u001b[0m\u001b[0;34m,\u001b[0m \u001b[0;32mTrue\u001b[0m\u001b[0;34m\u001b[0m\u001b[0m\n\u001b[0m\u001b[1;32m     40\u001b[0m         \u001b[0;32melse\u001b[0m\u001b[0;34m:\u001b[0m\u001b[0;34m\u001b[0m\u001b[0m\n\u001b[1;32m     41\u001b[0m             \u001b[0;32mraise\u001b[0m \u001b[0mIOError\u001b[0m\u001b[0;34m(\u001b[0m\u001b[0;34m'Reader needs file name or open file-like object'\u001b[0m\u001b[0;34m)\u001b[0m\u001b[0;34m\u001b[0m\u001b[0m\n",
      "\u001b[0;31mFileNotFoundError\u001b[0m: [Errno 2] No such file or directory: 'ECoG_monkey/ECoG_monkey.mat'"
     ]
    }
   ],
   "source": [
    "monkey_ecog_data = io.loadmat('ECoG_monkey/ECoG_monkey.mat', squeeze_me = True)\n",
    "print(monkey_ecog_data.keys())\n",
    "print(monkey_ecog_data['fs'])\n",
    "print(monkey_ecog_data['ecog_eyesopen'].shape)\n",
    "print(monkey_ecog_data['labels'])\n",
    "print(monkey_ecog_data['elec_num'])\n",
    "\n",
    "plt.figure(figsize=(15,3))\n",
    "plt.plot(np.arange(0,monkey_ecog_data['ecog_eyesopen'].shape[1]/monkey_ecog_data['fs'],1/monkey_ecog_data['fs']), \n",
    "         monkey_ecog_data['ecog_eyesopen'].T)\n",
    "plt.xlim([0,10])\n",
    "plt.xlabel('Time (s)')\n",
    "plt.legend(monkey_ecog_data['labels'])"
   ]
  },
  {
   "cell_type": "code",
   "execution_count": null,
   "metadata": {},
   "outputs": [],
   "source": [
    "fs = monkey_ecog_data['fs']\n",
    "print('Sampling rate = %iHz'%fs)\n",
    "print(monkey_ecog_data['elec_num'])\n",
    "eyesopenLFP = monkey_ecog_data['ecog_eyesopen'][1,:]/1000\n",
    "eyesclosedLFP = monkey_ecog_data['ecog_eyesclosed'][1,:]/1000\n",
    "sleepingMonkeyLFP = monkey_ecog_data['ecog_anes'][1,:]/1000\n",
    "\n",
    "t_Open = np.arange(0, len(eyesopenLFP)/fs, 1/fs)\n",
    "t_Closed = np.arange(0, len(eyesclosedLFP)/fs, 1/fs)\n",
    "t_Sleep = np.arange(0, len(sleepingMonkeyLFP)/fs, 1/fs)\n",
    "\n",
    "\n",
    "FIR_theta = signal.firwin(751, fs=fs, cutoff = [4,10], pass_zero = False) \n",
    "FIR_gamma = signal.firwin(751, fs=fs, cutoff = [30,50], pass_zero = False) \n",
    "FIR_alpha = signal.firwin(751, fs=fs, cutoff = [6,12], pass_zero = False) \n",
    "FIR_beta = signal.firwin(751, fs=fs, cutoff = [12.5,30], pass_zero = False)\n"
   ]
  },
  {
   "cell_type": "code",
   "execution_count": null,
   "metadata": {},
   "outputs": [],
   "source": [
    "theta_oscOpen = np.convolve(eyesopenLFP, FIR_theta, mode= 'same')\n",
    "theta_oscClosed = np.convolve(eyesclosedLFP, FIR_theta, mode= 'same')\n",
    "theta_oscSleep = np.convolve(sleepingMonkeyLFP, FIR_theta, mode= 'same')\n",
    "\n",
    "gamma_oscOpen = np.convolve(eyesopenLFP, FIR_gamma, mode= 'same')\n",
    "gamma_oscClosed = np.convolve(eyesclosedLFP, FIR_gamma, mode= 'same')\n",
    "gamma_oscSleep = np.convolve(sleepingMonkeyLFP, FIR_gamma, mode= 'same')\n",
    "\n",
    "beta_oscOpen = np.convolve(eyesopenLFP, FIR_beta, mode= 'same')\n",
    "beta_oscClosed = np.convolve(eyesclosedLFP, FIR_beta, mode= 'same')\n",
    "beta_oscSleep = np.convolve(sleepingMonkeyLFP, FIR_beta, mode= 'same')\n",
    "\n",
    "alpha_oscOpen = np.convolve(eyesopenLFP, FIR_alpha, mode= 'same')\n",
    "alpha_oscClosed = np.convolve(eyesclosedLFP, FIR_alpha, mode= 'same')\n",
    "alpha_oscSleep = np.convolve(sleepingMonkeyLFP, FIR_alpha, mode= 'same')"
   ]
  },
  {
   "cell_type": "code",
   "execution_count": null,
   "metadata": {},
   "outputs": [],
   "source": [
    "x_a_thetaOpen = signal.hilbert(theta_oscOpen)\n",
    "x_a_thetaClosed = signal.hilbert(theta_oscClosed)\n",
    "x_a_thetaSleep = signal.hilbert(theta_oscSleep)\n",
    "\n",
    "x_a_gammaOpen = signal.hilbert(gamma_oscOpen)\n",
    "x_a_gammaClosed = signal.hilbert(gamma_oscClosed)\n",
    "x_a_gammaSleep = signal.hilbert(gamma_oscSleep)\n",
    "\n",
    "x_a_betaOpen = signal.hilbert(beta_oscOpen)\n",
    "x_a_betaClosed = signal.hilbert(beta_oscClosed)\n",
    "x_a_betaSleep = signal.hilbert(beta_oscSleep)\n",
    "\n",
    "x_a_alphaOpen = signal.hilbert(alpha_oscOpen)\n",
    "x_a_alphaClosed = signal.hilbert(alpha_oscClosed)\n",
    "x_a_alphaSleep = signal.hilbert(alpha_oscSleep)"
   ]
  },
  {
   "cell_type": "code",
   "execution_count": null,
   "metadata": {},
   "outputs": [],
   "source": [
    "\n",
    "def compute_power_phase(x_a):\n",
    "    power = np.abs(x_a)**2\n",
    "    phase = np.angle(x_a)\n",
    "    return power, phase\n"
   ]
  },
  {
   "cell_type": "code",
   "execution_count": null,
   "metadata": {},
   "outputs": [],
   "source": [
    "theta_powerOpen, theta_phaseOpen = compute_power_phase(x_a_thetaOpen)\n",
    "theta_powerClosed, theta_phaseClosed = compute_power_phase(x_a_thetaClosed)\n",
    "theta_powerSleep, theta_phaseSleep = compute_power_phase(x_a_thetaSleep)\n",
    "\n",
    "gamma_powerOpen, gamma_phaseOpen = compute_power_phase(x_a_gammaOpen)\n",
    "gamma_powerClosed, gamma_phaseClosed = compute_power_phase(x_a_gammaClosed)\n",
    "gamma_powerSleep, gamma_phaseSleep = compute_power_phase(x_a_gammaSleep)\n",
    "\n",
    "alpha_powerOpen, alpha_phaseOpen = compute_power_phase(x_a_alphaOpen)\n",
    "alpha_powerClosed, alpha_phaseClosed = compute_power_phase(x_a_alphaClosed)\n",
    "alpha_powerSleep, alpha_phaseSleep = compute_power_phase(x_a_alphaSleep)\n",
    "\n",
    "beta_powerOpen, beta_phaseOpen = compute_power_phase(x_a_betaOpen)\n",
    "beta_powerClosed, beta_phaseClosed = compute_power_phase(x_a_betaClosed)\n",
    "beta_powerSleep, beta_phaseSleep = compute_power_phase(x_a_betaSleep)\n"
   ]
  },
  {
   "cell_type": "code",
   "execution_count": null,
   "metadata": {},
   "outputs": [],
   "source": [
    "plt.figure(figsize=(15,12))\n",
    "\n",
    "#plot eyes OPEN theta power and phase \n",
    "\n",
    "# plot the signal and the filtered signal\n",
    "plt.subplot(4,1,1)\n",
    "plt.plot(t_Open, eyesopenLFP, '.', label = 'eyesopenLFP')\n",
    "plt.plot(t_Open, theta_oscOpen, '.', label ='theta oscOpen')\n",
    "plt.xlabel('Time (s)'); plt.ylabel('Voltage')\n",
    "plt.legend()\n",
    "# plot the instantaneous power \n",
    "plt.subplot(4,1,3)\n",
    "plt.plot(t_Open, theta_powerOpen, label = 'theta powerOpen')\n",
    "plt.xlabel('Time (s)'); plt.ylabel('Power')\n",
    "plt.legend()\n",
    "\n",
    "# plot the instantaneous phase\n",
    "plt.subplot(4,1,4)\n",
    "plt.plot(t_Open, theta_phaseOpen, label = 'theta phaseOpen')\n",
    "plt.xlabel('Time (s)'); plt.ylabel('Phase')\n",
    "plt.legend()\n",
    "\n",
    "plt.figure(figsize=(15,12))\n",
    "\n",
    "# plot the signal and the filtered signal\n",
    "plt.subplot(4,1,1)\n",
    "plt.plot(t_Open, eyesopenLFP, '.', label = 'eyesopenLFP')\n",
    "plt.plot(t_Open, gamma_oscOpen, '.', label ='gamma oscOpen')\n",
    "plt.xlabel('Time (s)'); plt.ylabel('Voltage')\n",
    "plt.legend()\n",
    "# plot the instantaneous power \n",
    "plt.subplot(4,1,3)\n",
    "plt.plot(t_Open, gamma_powerOpen, label = 'gamma powerOpen')\n",
    "plt.xlabel('Time (s)'); plt.ylabel('Power')\n",
    "plt.legend()\n",
    "\n",
    "# plot the instantaneous phase\n",
    "plt.subplot(4,1,4)\n",
    "plt.plot(t_Open, gamma_phaseOpen, label = 'gamma phaseOpen')\n",
    "plt.xlabel('Time (s)'); plt.ylabel('Phase')\n",
    "plt.legend()\n"
   ]
  },
  {
   "cell_type": "code",
   "execution_count": null,
   "metadata": {},
   "outputs": [],
   "source": [
    "\n",
    "\n",
    "plt.figure(figsize=(15,12))\n",
    "\n",
    "# plot the signal and the filtered signal\n",
    "plt.subplot(4,1,1)\n",
    "plt.plot(t_Open, eyesopenLFP, '.', label = 'eyesopenLFP')\n",
    "plt.plot(t_Open, alpha_oscOpen, '.', label ='alpha oscOpen')\n",
    "plt.xlabel('Time (s)'); plt.ylabel('Voltage')\n",
    "plt.legend()\n",
    "# plot the instantaneous power \n",
    "plt.subplot(4,1,3)\n",
    "plt.plot(t_Open, alpha_powerOpen, label = 'alpha powerOpen')\n",
    "plt.xlabel('Time (s)'); plt.ylabel('Power')\n",
    "plt.legend()\n",
    "\n",
    "# plot the instantaneous phase\n",
    "plt.subplot(4,1,4)\n",
    "plt.plot(t_Open, alpha_phaseOpen, label = 'alpha phaseOpen')\n",
    "plt.xlabel('Time (s)'); plt.ylabel('Phase')\n",
    "plt.legend()\n"
   ]
  },
  {
   "cell_type": "code",
   "execution_count": null,
   "metadata": {},
   "outputs": [],
   "source": [
    "plt.figure(figsize=(15,12))\n",
    "\n",
    "# plot the signal and the filtered signal\n",
    "plt.subplot(4,1,1)\n",
    "plt.plot(t_Open, eyesopenLFP, '.', label = 'eyesopenLFP')\n",
    "plt.plot(t_Open, beta_oscOpen, '.', label ='beta oscOpen')\n",
    "plt.xlabel('Time (s)'); plt.ylabel('Voltage')\n",
    "plt.legend()\n",
    "# plot the instantaneous power \n",
    "plt.subplot(4,1,3)\n",
    "plt.plot(t_Open, beta_powerOpen, label = 'beta powerOpen')\n",
    "plt.xlabel('Time (s)'); plt.ylabel('Power')\n",
    "plt.legend()\n",
    "\n",
    "# plot the instantaneous phase\n",
    "plt.subplot(4,1,4)\n",
    "plt.plot(t_Open, beta_phaseOpen, label = 'beta phaseOpen')\n",
    "plt.xlabel('Time (s)'); plt.ylabel('Phase')\n",
    "plt.legend()\n"
   ]
  },
  {
   "cell_type": "code",
   "execution_count": null,
   "metadata": {},
   "outputs": [],
   "source": [
    "# EYES CLOSED STAGE"
   ]
  },
  {
   "cell_type": "code",
   "execution_count": null,
   "metadata": {},
   "outputs": [],
   "source": [
    "plt.figure(figsize=(15,12))\n",
    "\n",
    "# plot the signal and the filtered signal\n",
    "plt.subplot(4,1,1)\n",
    "plt.plot(t_Open, eyesclosedLFP, '.', label = 'eyesopenLFP')\n",
    "plt.plot(t_Open, theta_oscClosed, '.', label ='theta oscClosed')\n",
    "plt.xlabel('Time (s)'); plt.ylabel('Voltage')\n",
    "plt.legend()\n",
    "# plot the instantaneous power \n",
    "plt.subplot(4,1,3)\n",
    "plt.plot(t_Open, theta_powerClosed, label = 'theta powerClosed')\n",
    "plt.xlabel('Time (s)'); plt.ylabel('Power')\n",
    "plt.legend()\n",
    "\n",
    "# plot the instantaneous phase\n",
    "plt.subplot(4,1,4)\n",
    "plt.plot(t_Open, theta_phaseClosed, label = 'theta phaseClosed')\n",
    "plt.xlabel('Time (s)'); plt.ylabel('Phase')\n",
    "plt.legend()\n"
   ]
  },
  {
   "cell_type": "code",
   "execution_count": null,
   "metadata": {},
   "outputs": [],
   "source": [
    "plt.figure(figsize=(15,12))\n",
    "\n",
    "# plot the signal and the filtered signal\n",
    "plt.subplot(4,1,1)\n",
    "plt.plot(t_Open, eyesclosedLFP, '.', label = 'eyesopenLFP')\n",
    "plt.plot(t_Open, gamma_oscClosed, '.', label ='gamma oscClosed')\n",
    "plt.xlabel('Time (s)'); plt.ylabel('Voltage')\n",
    "plt.legend()\n",
    "# plot the instantaneous power \n",
    "plt.subplot(4,1,3)\n",
    "plt.plot(t_Open, gamma_powerClosed, label = 'gamma powerClosed')\n",
    "plt.xlabel('Time (s)'); plt.ylabel('Power')\n",
    "plt.legend()\n",
    "\n",
    "# plot the instantaneous phase\n",
    "plt.subplot(4,1,4)\n",
    "plt.plot(t_Open, gamma_phaseClosed, label = 'gamma phaseClosed')\n",
    "plt.xlabel('Time (s)'); plt.ylabel('Phase')\n",
    "plt.legend()\n"
   ]
  },
  {
   "cell_type": "code",
   "execution_count": 3,
   "metadata": {},
   "outputs": [
    {
     "ename": "NameError",
     "evalue": "name 't_Open' is not defined",
     "output_type": "error",
     "traceback": [
      "\u001b[0;31m---------------------------------------------------------------------------\u001b[0m",
      "\u001b[0;31mNameError\u001b[0m                                 Traceback (most recent call last)",
      "\u001b[0;32m<ipython-input-3-c115ab6cd306>\u001b[0m in \u001b[0;36m<module>\u001b[0;34m()\u001b[0m\n\u001b[1;32m      3\u001b[0m \u001b[0;31m# plot the signal and the filtered signal\u001b[0m\u001b[0;34m\u001b[0m\u001b[0;34m\u001b[0m\u001b[0m\n\u001b[1;32m      4\u001b[0m \u001b[0mplt\u001b[0m\u001b[0;34m.\u001b[0m\u001b[0msubplot\u001b[0m\u001b[0;34m(\u001b[0m\u001b[0;36m4\u001b[0m\u001b[0;34m,\u001b[0m\u001b[0;36m1\u001b[0m\u001b[0;34m,\u001b[0m\u001b[0;36m1\u001b[0m\u001b[0;34m)\u001b[0m\u001b[0;34m\u001b[0m\u001b[0m\n\u001b[0;32m----> 5\u001b[0;31m \u001b[0mplt\u001b[0m\u001b[0;34m.\u001b[0m\u001b[0mplot\u001b[0m\u001b[0;34m(\u001b[0m\u001b[0mt_Open\u001b[0m\u001b[0;34m,\u001b[0m \u001b[0meyesclosedLFP\u001b[0m\u001b[0;34m,\u001b[0m \u001b[0;34m'.'\u001b[0m\u001b[0;34m,\u001b[0m \u001b[0mlabel\u001b[0m \u001b[0;34m=\u001b[0m \u001b[0;34m'eyesopenLFP'\u001b[0m\u001b[0;34m)\u001b[0m\u001b[0;34m\u001b[0m\u001b[0m\n\u001b[0m\u001b[1;32m      6\u001b[0m \u001b[0mplt\u001b[0m\u001b[0;34m.\u001b[0m\u001b[0mplot\u001b[0m\u001b[0;34m(\u001b[0m\u001b[0mt_Open\u001b[0m\u001b[0;34m,\u001b[0m \u001b[0malpha_oscClosed\u001b[0m\u001b[0;34m,\u001b[0m \u001b[0;34m'.'\u001b[0m\u001b[0;34m,\u001b[0m \u001b[0mlabel\u001b[0m \u001b[0;34m=\u001b[0m\u001b[0;34m'alpha oscClosed'\u001b[0m\u001b[0;34m)\u001b[0m\u001b[0;34m\u001b[0m\u001b[0m\n\u001b[1;32m      7\u001b[0m \u001b[0mplt\u001b[0m\u001b[0;34m.\u001b[0m\u001b[0mxlabel\u001b[0m\u001b[0;34m(\u001b[0m\u001b[0;34m'Time (s)'\u001b[0m\u001b[0;34m)\u001b[0m\u001b[0;34m;\u001b[0m \u001b[0mplt\u001b[0m\u001b[0;34m.\u001b[0m\u001b[0mylabel\u001b[0m\u001b[0;34m(\u001b[0m\u001b[0;34m'Voltage'\u001b[0m\u001b[0;34m)\u001b[0m\u001b[0;34m\u001b[0m\u001b[0m\n",
      "\u001b[0;31mNameError\u001b[0m: name 't_Open' is not defined"
     ]
    },
    {
     "data": {
      "image/png": "[encoded data removed]",
      "text/plain": [
       "<Figure size 1080x864 with 1 Axes>"
      ]
     },
     "metadata": {},
     "output_type": "display_data"
    }
   ],
   "source": [
    "plt.figure(figsize=(15,12))\n",
    "\n",
    "# plot the signal and the filtered signal\n",
    "plt.subplot(4,1,1)\n",
    "plt.plot(t_Open, eyesclosedLFP, '.', label = 'eyesopenLFP')\n",
    "plt.plot(t_Open, alpha_oscClosed, '.', label ='alpha oscClosed')\n",
    "plt.xlabel('Time (s)'); plt.ylabel('Voltage')\n",
    "plt.legend()\n",
    "# plot the instantaneous power \n",
    "plt.subplot(4,1,3)\n",
    "plt.plot(t_Open, alpha_powerClosed, label = 'alpha powerClosed')\n",
    "plt.xlabel('Time (s)'); plt.ylabel('Power')\n",
    "plt.legend()\n",
    "\n",
    "# plot the instantaneous phase\n",
    "plt.subplot(4,1,4)\n",
    "plt.plot(t_Open, alpha_phaseClosed, label = 'alpha phaseClosed')\n",
    "plt.xlabel('Time (s)'); plt.ylabel('Phase')\n",
    "plt.legend()\n"
   ]
  },
  {
   "cell_type": "code",
   "execution_count": null,
   "metadata": {},
   "outputs": [],
   "source": [
    "plt.figure(figsize=(15,12))\n",
    "\n",
    "# plot the signal and the filtered signal\n",
    "plt.subplot(4,1,1)\n",
    "plt.plot(t_Open, eyesclosedLFP, '.', label = 'eyesopenLFP')\n",
    "plt.plot(t_Open, beta_oscClosed, '.', label ='beta oscClosed')\n",
    "plt.xlabel('Time (s)'); plt.ylabel('Voltage')\n",
    "plt.legend()\n",
    "# plot the instantaneous power \n",
    "plt.subplot(4,1,3)\n",
    "plt.plot(t_Open, beta_powerClosed, label = 'beta powerClosed')\n",
    "plt.xlabel('Time (s)'); plt.ylabel('Power')\n",
    "plt.legend()\n",
    "\n",
    "# plot the instantaneous phase\n",
    "plt.subplot(4,1,4)\n",
    "plt.plot(t_Open, beta_phaseClosed, label = 'beta phaseClosed')\n",
    "plt.xlabel('Time (s)'); plt.ylabel('Phase')\n",
    "plt.legend()\n"
   ]
  },
  {
   "cell_type": "code",
   "execution_count": null,
   "metadata": {},
   "outputs": [],
   "source": [
    "# POWER OVER TIME WHILE MONKEY ASLEEP"
   ]
  },
  {
   "cell_type": "code",
   "execution_count": 4,
   "metadata": {},
   "outputs": [
    {
     "ename": "NameError",
     "evalue": "name 't_Open' is not defined",
     "output_type": "error",
     "traceback": [
      "\u001b[0;31m---------------------------------------------------------------------------\u001b[0m",
      "\u001b[0;31mNameError\u001b[0m                                 Traceback (most recent call last)",
      "\u001b[0;32m<ipython-input-4-c18558b1e0e4>\u001b[0m in \u001b[0;36m<module>\u001b[0;34m()\u001b[0m\n\u001b[1;32m      3\u001b[0m \u001b[0;31m# plot the signal and the filtered signal\u001b[0m\u001b[0;34m\u001b[0m\u001b[0;34m\u001b[0m\u001b[0m\n\u001b[1;32m      4\u001b[0m \u001b[0mplt\u001b[0m\u001b[0;34m.\u001b[0m\u001b[0msubplot\u001b[0m\u001b[0;34m(\u001b[0m\u001b[0;36m4\u001b[0m\u001b[0;34m,\u001b[0m\u001b[0;36m1\u001b[0m\u001b[0;34m,\u001b[0m\u001b[0;36m1\u001b[0m\u001b[0;34m)\u001b[0m\u001b[0;34m\u001b[0m\u001b[0m\n\u001b[0;32m----> 5\u001b[0;31m \u001b[0mplt\u001b[0m\u001b[0;34m.\u001b[0m\u001b[0mplot\u001b[0m\u001b[0;34m(\u001b[0m\u001b[0mt_Open\u001b[0m\u001b[0;34m,\u001b[0m \u001b[0msleepingMonkeyLFP\u001b[0m\u001b[0;34m,\u001b[0m \u001b[0;34m'.'\u001b[0m\u001b[0;34m,\u001b[0m \u001b[0mlabel\u001b[0m \u001b[0;34m=\u001b[0m \u001b[0;34m'eyesopenLFP'\u001b[0m\u001b[0;34m)\u001b[0m\u001b[0;34m\u001b[0m\u001b[0m\n\u001b[0m\u001b[1;32m      6\u001b[0m \u001b[0mplt\u001b[0m\u001b[0;34m.\u001b[0m\u001b[0mplot\u001b[0m\u001b[0;34m(\u001b[0m\u001b[0mt_Open\u001b[0m\u001b[0;34m,\u001b[0m \u001b[0mtheta_oscSleep\u001b[0m\u001b[0;34m,\u001b[0m \u001b[0;34m'.'\u001b[0m\u001b[0;34m,\u001b[0m \u001b[0mlabel\u001b[0m \u001b[0;34m=\u001b[0m\u001b[0;34m'theta oscSleep'\u001b[0m\u001b[0;34m)\u001b[0m\u001b[0;34m\u001b[0m\u001b[0m\n\u001b[1;32m      7\u001b[0m \u001b[0mplt\u001b[0m\u001b[0;34m.\u001b[0m\u001b[0mxlabel\u001b[0m\u001b[0;34m(\u001b[0m\u001b[0;34m'Time (s)'\u001b[0m\u001b[0;34m)\u001b[0m\u001b[0;34m;\u001b[0m \u001b[0mplt\u001b[0m\u001b[0;34m.\u001b[0m\u001b[0mylabel\u001b[0m\u001b[0;34m(\u001b[0m\u001b[0;34m'Voltage'\u001b[0m\u001b[0;34m)\u001b[0m\u001b[0;34m\u001b[0m\u001b[0m\n",
      "\u001b[0;31mNameError\u001b[0m: name 't_Open' is not defined"
     ]
    },
    {
     "data": {
      "image/png": "[encoded data removed]",
      "text/plain": [
       "<Figure size 1080x864 with 1 Axes>"
      ]
     },
     "metadata": {},
     "output_type": "display_data"
    }
   ],
   "source": [
    "plt.figure(figsize=(15,12))\n",
    "\n",
    "# plot the signal and the filtered signal\n",
    "plt.subplot(4,1,1)\n",
    "plt.plot(t_Open, sleepingMonkeyLFP, '.', label = 'eyesopenLFP')\n",
    "plt.plot(t_Open, theta_oscSleep, '.', label ='theta oscSleep')\n",
    "plt.xlabel('Time (s)'); plt.ylabel('Voltage')\n",
    "plt.legend()\n",
    "# plot the instantaneous power \n",
    "plt.subplot(4,1,3)\n",
    "plt.plot(t_Open, theta_powerSleep, label = 'theta powerSleep')\n",
    "plt.xlabel('Time (s)'); plt.ylabel('Power')\n",
    "plt.legend()\n",
    "\n",
    "# plot the instantaneous phase\n",
    "plt.subplot(4,1,4)\n",
    "plt.plot(t_Open, theta_phaseSleep, label = 'theta phaseSleep')\n",
    "plt.xlabel('Time (s)'); plt.ylabel('Phase')\n",
    "plt.legend()\n"
   ]
  },
  {
   "cell_type": "code",
   "execution_count": 5,
   "metadata": {},
   "outputs": [
    {
     "ename": "NameError",
     "evalue": "name 't_Open' is not defined",
     "output_type": "error",
     "traceback": [
      "\u001b[0;31m---------------------------------------------------------------------------\u001b[0m",
      "\u001b[0;31mNameError\u001b[0m                                 Traceback (most recent call last)",
      "\u001b[0;32m<ipython-input-5-be342c4e4a15>\u001b[0m in \u001b[0;36m<module>\u001b[0;34m()\u001b[0m\n\u001b[1;32m      1\u001b[0m \u001b[0;31m# plot the signal and the filtered signal\u001b[0m\u001b[0;34m\u001b[0m\u001b[0;34m\u001b[0m\u001b[0m\n\u001b[1;32m      2\u001b[0m \u001b[0mplt\u001b[0m\u001b[0;34m.\u001b[0m\u001b[0msubplot\u001b[0m\u001b[0;34m(\u001b[0m\u001b[0;36m4\u001b[0m\u001b[0;34m,\u001b[0m\u001b[0;36m1\u001b[0m\u001b[0;34m,\u001b[0m\u001b[0;36m1\u001b[0m\u001b[0;34m)\u001b[0m\u001b[0;34m\u001b[0m\u001b[0m\n\u001b[0;32m----> 3\u001b[0;31m \u001b[0mplt\u001b[0m\u001b[0;34m.\u001b[0m\u001b[0mplot\u001b[0m\u001b[0;34m(\u001b[0m\u001b[0mt_Open\u001b[0m\u001b[0;34m,\u001b[0m \u001b[0msleepingMonkeyLFP\u001b[0m\u001b[0;34m,\u001b[0m \u001b[0;34m'.'\u001b[0m\u001b[0;34m,\u001b[0m \u001b[0mlabel\u001b[0m \u001b[0;34m=\u001b[0m \u001b[0;34m'eyesopenLFP'\u001b[0m\u001b[0;34m)\u001b[0m\u001b[0;34m\u001b[0m\u001b[0m\n\u001b[0m\u001b[1;32m      4\u001b[0m \u001b[0mplt\u001b[0m\u001b[0;34m.\u001b[0m\u001b[0mplot\u001b[0m\u001b[0;34m(\u001b[0m\u001b[0mt_Open\u001b[0m\u001b[0;34m,\u001b[0m \u001b[0mgamma_oscSleep\u001b[0m\u001b[0;34m,\u001b[0m \u001b[0;34m'.'\u001b[0m\u001b[0;34m,\u001b[0m \u001b[0mlabel\u001b[0m \u001b[0;34m=\u001b[0m\u001b[0;34m'gamma oscSleep'\u001b[0m\u001b[0;34m)\u001b[0m\u001b[0;34m\u001b[0m\u001b[0m\n\u001b[1;32m      5\u001b[0m \u001b[0mplt\u001b[0m\u001b[0;34m.\u001b[0m\u001b[0mxlabel\u001b[0m\u001b[0;34m(\u001b[0m\u001b[0;34m'Time (s)'\u001b[0m\u001b[0;34m)\u001b[0m\u001b[0;34m;\u001b[0m \u001b[0mplt\u001b[0m\u001b[0;34m.\u001b[0m\u001b[0mylabel\u001b[0m\u001b[0;34m(\u001b[0m\u001b[0;34m'Voltage'\u001b[0m\u001b[0;34m)\u001b[0m\u001b[0;34m\u001b[0m\u001b[0m\n",
      "\u001b[0;31mNameError\u001b[0m: name 't_Open' is not defined"
     ]
    },
    {
     "data": {
      "image/png": "[encoded data removed]",
      "text/plain": [
       "<Figure size 432x288 with 1 Axes>"
      ]
     },
     "metadata": {},
     "output_type": "display_data"
    }
   ],
   "source": [
    "# plot the signal and the filtered signal\n",
    "plt.subplot(4,1,1)\n",
    "plt.plot(t_Open, sleepingMonkeyLFP, '.', label = 'eyesopenLFP')\n",
    "plt.plot(t_Open, gamma_oscSleep, '.', label ='gamma oscSleep')\n",
    "plt.xlabel('Time (s)'); plt.ylabel('Voltage')\n",
    "plt.legend()\n",
    "# plot the instantaneous power \n",
    "plt.subplot(4,1,3)\n",
    "plt.plot(t_Open, gamma_powerSleep, label = 'gamma powerSleep')\n",
    "plt.xlabel('Time (s)'); plt.ylabel('Power')\n",
    "plt.legend()\n",
    "\n",
    "# plot the instantaneous phase\n",
    "plt.subplot(4,1,4)\n",
    "plt.plot(t_Open, gamma_phaseSleep, label = 'gamma phaseSleep')\n",
    "plt.xlabel('Time (s)'); plt.ylabel('Phase')\n",
    "plt.legend()\n"
   ]
  },
  {
   "cell_type": "code",
   "execution_count": 6,
   "metadata": {},
   "outputs": [
    {
     "ename": "NameError",
     "evalue": "name 't_Open' is not defined",
     "output_type": "error",
     "traceback": [
      "\u001b[0;31m---------------------------------------------------------------------------\u001b[0m",
      "\u001b[0;31mNameError\u001b[0m                                 Traceback (most recent call last)",
      "\u001b[0;32m<ipython-input-6-a6e24ceec589>\u001b[0m in \u001b[0;36m<module>\u001b[0;34m()\u001b[0m\n\u001b[1;32m      1\u001b[0m \u001b[0;31m# plot the signal and the filtered signal\u001b[0m\u001b[0;34m\u001b[0m\u001b[0;34m\u001b[0m\u001b[0m\n\u001b[1;32m      2\u001b[0m \u001b[0mplt\u001b[0m\u001b[0;34m.\u001b[0m\u001b[0msubplot\u001b[0m\u001b[0;34m(\u001b[0m\u001b[0;36m4\u001b[0m\u001b[0;34m,\u001b[0m\u001b[0;36m1\u001b[0m\u001b[0;34m,\u001b[0m\u001b[0;36m1\u001b[0m\u001b[0;34m)\u001b[0m\u001b[0;34m\u001b[0m\u001b[0m\n\u001b[0;32m----> 3\u001b[0;31m \u001b[0mplt\u001b[0m\u001b[0;34m.\u001b[0m\u001b[0mplot\u001b[0m\u001b[0;34m(\u001b[0m\u001b[0mt_Open\u001b[0m\u001b[0;34m,\u001b[0m \u001b[0msleepingMonkeyLFP\u001b[0m\u001b[0;34m,\u001b[0m \u001b[0;34m'.'\u001b[0m\u001b[0;34m,\u001b[0m \u001b[0mlabel\u001b[0m \u001b[0;34m=\u001b[0m \u001b[0;34m'eyesopenLFP'\u001b[0m\u001b[0;34m)\u001b[0m\u001b[0;34m\u001b[0m\u001b[0m\n\u001b[0m\u001b[1;32m      4\u001b[0m \u001b[0mplt\u001b[0m\u001b[0;34m.\u001b[0m\u001b[0mplot\u001b[0m\u001b[0;34m(\u001b[0m\u001b[0mt_Open\u001b[0m\u001b[0;34m,\u001b[0m \u001b[0malpha_oscSleep\u001b[0m\u001b[0;34m,\u001b[0m \u001b[0;34m'.'\u001b[0m\u001b[0;34m,\u001b[0m \u001b[0mlabel\u001b[0m \u001b[0;34m=\u001b[0m\u001b[0;34m'alpha oscSleep'\u001b[0m\u001b[0;34m)\u001b[0m\u001b[0;34m\u001b[0m\u001b[0m\n\u001b[1;32m      5\u001b[0m \u001b[0mplt\u001b[0m\u001b[0;34m.\u001b[0m\u001b[0mxlabel\u001b[0m\u001b[0;34m(\u001b[0m\u001b[0;34m'Time (s)'\u001b[0m\u001b[0;34m)\u001b[0m\u001b[0;34m;\u001b[0m \u001b[0mplt\u001b[0m\u001b[0;34m.\u001b[0m\u001b[0mylabel\u001b[0m\u001b[0;34m(\u001b[0m\u001b[0;34m'Voltage'\u001b[0m\u001b[0;34m)\u001b[0m\u001b[0;34m\u001b[0m\u001b[0m\n",
      "\u001b[0;31mNameError\u001b[0m: name 't_Open' is not defined"
     ]
    },
    {
     "data": {
      "image/png": "[encoded data removed]",
      "text/plain": [
       "<Figure size 432x288 with 1 Axes>"
      ]
     },
     "metadata": {},
     "output_type": "display_data"
    }
   ],
   "source": [
    "# plot the signal and the filtered signal\n",
    "plt.subplot(4,1,1)\n",
    "plt.plot(t_Open, sleepingMonkeyLFP, '.', label = 'eyesopenLFP')\n",
    "plt.plot(t_Open, alpha_oscSleep, '.', label ='alpha oscSleep')\n",
    "plt.xlabel('Time (s)'); plt.ylabel('Voltage')\n",
    "plt.legend()\n",
    "# plot the instantaneous power \n",
    "plt.subplot(4,1,3)\n",
    "plt.plot(t_Open, alpha_powerSleep, label = 'alpha powerSleep')\n",
    "plt.xlabel('Time (s)'); plt.ylabel('Power')\n",
    "plt.legend()\n",
    "\n",
    "# plot the instantaneous phase\n",
    "plt.subplot(4,1,4)\n",
    "plt.plot(t_Open, alpha_phaseSleep, label = 'alpha phaseSleep')\n",
    "plt.xlabel('Time (s)'); plt.ylabel('Phase')\n",
    "plt.legend()\n"
   ]
  },
  {
   "cell_type": "code",
   "execution_count": 7,
   "metadata": {},
   "outputs": [
    {
     "ename": "NameError",
     "evalue": "name 't_Open' is not defined",
     "output_type": "error",
     "traceback": [
      "\u001b[0;31m---------------------------------------------------------------------------\u001b[0m",
      "\u001b[0;31mNameError\u001b[0m                                 Traceback (most recent call last)",
      "\u001b[0;32m<ipython-input-7-d2238a82800e>\u001b[0m in \u001b[0;36m<module>\u001b[0;34m()\u001b[0m\n\u001b[1;32m      1\u001b[0m \u001b[0;31m# plot the signal and the filtered signal\u001b[0m\u001b[0;34m\u001b[0m\u001b[0;34m\u001b[0m\u001b[0m\n\u001b[1;32m      2\u001b[0m \u001b[0mplt\u001b[0m\u001b[0;34m.\u001b[0m\u001b[0msubplot\u001b[0m\u001b[0;34m(\u001b[0m\u001b[0;36m4\u001b[0m\u001b[0;34m,\u001b[0m\u001b[0;36m1\u001b[0m\u001b[0;34m,\u001b[0m\u001b[0;36m1\u001b[0m\u001b[0;34m)\u001b[0m\u001b[0;34m\u001b[0m\u001b[0m\n\u001b[0;32m----> 3\u001b[0;31m \u001b[0mplt\u001b[0m\u001b[0;34m.\u001b[0m\u001b[0mplot\u001b[0m\u001b[0;34m(\u001b[0m\u001b[0mt_Open\u001b[0m\u001b[0;34m,\u001b[0m \u001b[0msleepingMonkeyLFP\u001b[0m\u001b[0;34m,\u001b[0m \u001b[0;34m'.'\u001b[0m\u001b[0;34m,\u001b[0m \u001b[0mlabel\u001b[0m \u001b[0;34m=\u001b[0m \u001b[0;34m'eyesopenLFP'\u001b[0m\u001b[0;34m)\u001b[0m\u001b[0;34m\u001b[0m\u001b[0m\n\u001b[0m\u001b[1;32m      4\u001b[0m \u001b[0mplt\u001b[0m\u001b[0;34m.\u001b[0m\u001b[0mplot\u001b[0m\u001b[0;34m(\u001b[0m\u001b[0mt_Open\u001b[0m\u001b[0;34m,\u001b[0m \u001b[0mbeta_oscSleep\u001b[0m\u001b[0;34m,\u001b[0m \u001b[0;34m'.'\u001b[0m\u001b[0;34m,\u001b[0m \u001b[0mlabel\u001b[0m \u001b[0;34m=\u001b[0m\u001b[0;34m'beta oscSleep'\u001b[0m\u001b[0;34m)\u001b[0m\u001b[0;34m\u001b[0m\u001b[0m\n\u001b[1;32m      5\u001b[0m \u001b[0mplt\u001b[0m\u001b[0;34m.\u001b[0m\u001b[0mxlabel\u001b[0m\u001b[0;34m(\u001b[0m\u001b[0;34m'Time (s)'\u001b[0m\u001b[0;34m)\u001b[0m\u001b[0;34m;\u001b[0m \u001b[0mplt\u001b[0m\u001b[0;34m.\u001b[0m\u001b[0mylabel\u001b[0m\u001b[0;34m(\u001b[0m\u001b[0;34m'Voltage'\u001b[0m\u001b[0;34m)\u001b[0m\u001b[0;34m\u001b[0m\u001b[0m\n",
      "\u001b[0;31mNameError\u001b[0m: name 't_Open' is not defined"
     ]
    },
    {
     "data": {
      "image/png": "[encoded data removed]",
      "text/plain": [
       "<Figure size 432x288 with 1 Axes>"
      ]
     },
     "metadata": {},
     "output_type": "display_data"
    }
   ],
   "source": [
    "# plot the signal and the filtered signal\n",
    "plt.subplot(4,1,1)\n",
    "plt.plot(t_Open, sleepingMonkeyLFP, '.', label = 'eyesopenLFP')\n",
    "plt.plot(t_Open, beta_oscSleep, '.', label ='beta oscSleep')\n",
    "plt.xlabel('Time (s)'); plt.ylabel('Voltage')\n",
    "plt.legend()\n",
    "# plot the instantaneous power \n",
    "plt.subplot(4,1,3)\n",
    "plt.plot(t_Open, beta_powerSleep, label = 'beta  powerSleep')\n",
    "plt.xlabel('Time (s)'); plt.ylabel('Power')\n",
    "plt.legend()\n",
    "\n",
    "# plot the instantaneous phase\n",
    "plt.subplot(4,1,4)\n",
    "plt.plot(t_Open, beta_phaseSleep, label = 'beta phaseSleep')\n",
    "plt.xlabel('Time (s)'); plt.ylabel('Phase')\n",
    "plt.legend()\n"
   ]
  },
  {
   "cell_type": "code",
   "execution_count": null,
   "metadata": {},
   "outputs": [],
   "source": []
  },
  {
   "cell_type": "code",
   "execution_count": null,
   "metadata": {},
   "outputs": [],
   "source": []
  },
  {
   "cell_type": "code",
   "execution_count": 8,
   "metadata": {},
   "outputs": [],
   "source": [
    "# PHASE AMPLITUDE COUPLING  BEGINS"
   ]
  },
  {
   "cell_type": "code",
   "execution_count": 9,
   "metadata": {},
   "outputs": [],
   "source": [
    "#peaks and troughs for each wave in the open state"
   ]
  },
  {
   "cell_type": "code",
   "execution_count": 10,
   "metadata": {},
   "outputs": [
    {
     "ename": "NameError",
     "evalue": "name 'theta_phaseOpen' is not defined",
     "output_type": "error",
     "traceback": [
      "\u001b[0;31m---------------------------------------------------------------------------\u001b[0m",
      "\u001b[0;31mNameError\u001b[0m                                 Traceback (most recent call last)",
      "\u001b[0;32m<ipython-input-10-4b578b0a999c>\u001b[0m in \u001b[0;36m<module>\u001b[0;34m()\u001b[0m\n\u001b[0;32m----> 1\u001b[0;31m \u001b[0mthetapeak_indsOpen\u001b[0m \u001b[0;34m=\u001b[0m \u001b[0mnp\u001b[0m\u001b[0;34m.\u001b[0m\u001b[0mwhere\u001b[0m\u001b[0;34m(\u001b[0m\u001b[0mnp\u001b[0m\u001b[0;34m.\u001b[0m\u001b[0mlogical_and\u001b[0m\u001b[0;34m(\u001b[0m\u001b[0mtheta_phaseOpen\u001b[0m\u001b[0;34m>\u001b[0m\u001b[0;34m-\u001b[0m\u001b[0mnp\u001b[0m\u001b[0;34m.\u001b[0m\u001b[0mpi\u001b[0m\u001b[0;34m/\u001b[0m\u001b[0;36m2\u001b[0m\u001b[0;34m,\u001b[0m \u001b[0mtheta_phaseOpen\u001b[0m\u001b[0;34m<\u001b[0m\u001b[0mnp\u001b[0m\u001b[0;34m.\u001b[0m\u001b[0mpi\u001b[0m\u001b[0;34m/\u001b[0m\u001b[0;36m2\u001b[0m\u001b[0;34m)\u001b[0m\u001b[0;34m)\u001b[0m\u001b[0;34m[\u001b[0m\u001b[0;36m0\u001b[0m\u001b[0;34m]\u001b[0m\u001b[0;34m\u001b[0m\u001b[0m\n\u001b[0m\u001b[1;32m      2\u001b[0m \u001b[0mthetatrough_indsOpen\u001b[0m \u001b[0;34m=\u001b[0m \u001b[0mnp\u001b[0m\u001b[0;34m.\u001b[0m\u001b[0mwhere\u001b[0m\u001b[0;34m(\u001b[0m\u001b[0mnp\u001b[0m\u001b[0;34m.\u001b[0m\u001b[0mlogical_or\u001b[0m\u001b[0;34m(\u001b[0m\u001b[0mtheta_phaseOpen\u001b[0m\u001b[0;34m<\u001b[0m\u001b[0;34m-\u001b[0m\u001b[0mnp\u001b[0m\u001b[0;34m.\u001b[0m\u001b[0mpi\u001b[0m\u001b[0;34m/\u001b[0m\u001b[0;36m2\u001b[0m\u001b[0;34m,\u001b[0m \u001b[0mtheta_phaseOpen\u001b[0m\u001b[0;34m>\u001b[0m\u001b[0mnp\u001b[0m\u001b[0;34m.\u001b[0m\u001b[0mpi\u001b[0m\u001b[0;34m/\u001b[0m\u001b[0;36m2\u001b[0m\u001b[0;34m)\u001b[0m\u001b[0;34m)\u001b[0m\u001b[0;34m[\u001b[0m\u001b[0;36m0\u001b[0m\u001b[0;34m]\u001b[0m\u001b[0;34m\u001b[0m\u001b[0m\n\u001b[1;32m      3\u001b[0m \u001b[0;34m\u001b[0m\u001b[0m\n\u001b[1;32m      4\u001b[0m \u001b[0mgammapeak_indsOpen\u001b[0m \u001b[0;34m=\u001b[0m \u001b[0mnp\u001b[0m\u001b[0;34m.\u001b[0m\u001b[0mwhere\u001b[0m\u001b[0;34m(\u001b[0m\u001b[0mnp\u001b[0m\u001b[0;34m.\u001b[0m\u001b[0mlogical_and\u001b[0m\u001b[0;34m(\u001b[0m\u001b[0mgamma_phaseOpen\u001b[0m\u001b[0;34m>\u001b[0m\u001b[0;34m-\u001b[0m\u001b[0mnp\u001b[0m\u001b[0;34m.\u001b[0m\u001b[0mpi\u001b[0m\u001b[0;34m/\u001b[0m\u001b[0;36m2\u001b[0m\u001b[0;34m,\u001b[0m \u001b[0mgamma_phaseOpen\u001b[0m\u001b[0;34m<\u001b[0m\u001b[0mnp\u001b[0m\u001b[0;34m.\u001b[0m\u001b[0mpi\u001b[0m\u001b[0;34m/\u001b[0m\u001b[0;36m2\u001b[0m\u001b[0;34m)\u001b[0m\u001b[0;34m)\u001b[0m\u001b[0;34m[\u001b[0m\u001b[0;36m0\u001b[0m\u001b[0;34m]\u001b[0m\u001b[0;34m\u001b[0m\u001b[0m\n\u001b[1;32m      5\u001b[0m \u001b[0mgammatrough_indsOpen\u001b[0m \u001b[0;34m=\u001b[0m \u001b[0mnp\u001b[0m\u001b[0;34m.\u001b[0m\u001b[0mwhere\u001b[0m\u001b[0;34m(\u001b[0m\u001b[0mnp\u001b[0m\u001b[0;34m.\u001b[0m\u001b[0mlogical_or\u001b[0m\u001b[0;34m(\u001b[0m\u001b[0mgamma_phaseOpen\u001b[0m\u001b[0;34m<\u001b[0m\u001b[0;34m-\u001b[0m\u001b[0mnp\u001b[0m\u001b[0;34m.\u001b[0m\u001b[0mpi\u001b[0m\u001b[0;34m/\u001b[0m\u001b[0;36m2\u001b[0m\u001b[0;34m,\u001b[0m \u001b[0mgamma_phaseOpen\u001b[0m\u001b[0;34m>\u001b[0m\u001b[0mnp\u001b[0m\u001b[0;34m.\u001b[0m\u001b[0mpi\u001b[0m\u001b[0;34m/\u001b[0m\u001b[0;36m2\u001b[0m\u001b[0;34m)\u001b[0m\u001b[0;34m)\u001b[0m\u001b[0;34m[\u001b[0m\u001b[0;36m0\u001b[0m\u001b[0;34m]\u001b[0m\u001b[0;34m\u001b[0m\u001b[0m\n",
      "\u001b[0;31mNameError\u001b[0m: name 'theta_phaseOpen' is not defined"
     ]
    }
   ],
   "source": [
    "thetapeak_indsOpen = np.where(np.logical_and(theta_phaseOpen>-np.pi/2, theta_phaseOpen<np.pi/2))[0]\n",
    "thetatrough_indsOpen = np.where(np.logical_or(theta_phaseOpen<-np.pi/2, theta_phaseOpen>np.pi/2))[0]\n",
    "\n",
    "gammapeak_indsOpen = np.where(np.logical_and(gamma_phaseOpen>-np.pi/2, gamma_phaseOpen<np.pi/2))[0]\n",
    "gammatrough_indsOpen = np.where(np.logical_or(gamma_phaseOpen<-np.pi/2, gamma_phaseOpen>np.pi/2))[0]\n",
    "\n",
    "alphapeak_indsOpen = np.where(np.logical_and(alpha_phaseOpen>-np.pi/2, alpha_phaseOpen<np.pi/2))[0]\n",
    "alphatrough_indsOpen = np.where(np.logical_or(alpha_phaseOpen<-np.pi/2, alpha_phaseOpen>np.pi/2))[0]\n",
    "\n",
    "betapeak_indsOpen = np.where(np.logical_and(beta_phaseOpen>-np.pi/2, beta_phaseOpen<np.pi/2))[0]\n",
    "betatrough_indsOpen = np.where(np.logical_or(beta_phaseOpen<-np.pi/2, beta_phaseOpen>np.pi/2))[0]"
   ]
  },
  {
   "cell_type": "code",
   "execution_count": 11,
   "metadata": {},
   "outputs": [
    {
     "ename": "NameError",
     "evalue": "name 'theta_phaseClosed' is not defined",
     "output_type": "error",
     "traceback": [
      "\u001b[0;31m---------------------------------------------------------------------------\u001b[0m",
      "\u001b[0;31mNameError\u001b[0m                                 Traceback (most recent call last)",
      "\u001b[0;32m<ipython-input-11-64b7ddf8ff37>\u001b[0m in \u001b[0;36m<module>\u001b[0;34m()\u001b[0m\n\u001b[1;32m      1\u001b[0m \u001b[0;31m#peaks and troughs for each wave in the closed state\u001b[0m\u001b[0;34m\u001b[0m\u001b[0;34m\u001b[0m\u001b[0m\n\u001b[0;32m----> 2\u001b[0;31m \u001b[0mthetapeak_indsClosed\u001b[0m \u001b[0;34m=\u001b[0m \u001b[0mnp\u001b[0m\u001b[0;34m.\u001b[0m\u001b[0mwhere\u001b[0m\u001b[0;34m(\u001b[0m\u001b[0mnp\u001b[0m\u001b[0;34m.\u001b[0m\u001b[0mlogical_and\u001b[0m\u001b[0;34m(\u001b[0m\u001b[0mtheta_phaseClosed\u001b[0m\u001b[0;34m>\u001b[0m\u001b[0;34m-\u001b[0m\u001b[0mnp\u001b[0m\u001b[0;34m.\u001b[0m\u001b[0mpi\u001b[0m\u001b[0;34m/\u001b[0m\u001b[0;36m2\u001b[0m\u001b[0;34m,\u001b[0m \u001b[0mtheta_phaseClosed\u001b[0m\u001b[0;34m<\u001b[0m\u001b[0mnp\u001b[0m\u001b[0;34m.\u001b[0m\u001b[0mpi\u001b[0m\u001b[0;34m/\u001b[0m\u001b[0;36m2\u001b[0m\u001b[0;34m)\u001b[0m\u001b[0;34m)\u001b[0m\u001b[0;34m[\u001b[0m\u001b[0;36m0\u001b[0m\u001b[0;34m]\u001b[0m\u001b[0;34m\u001b[0m\u001b[0m\n\u001b[0m\u001b[1;32m      3\u001b[0m \u001b[0mthetatrough_indsClosed\u001b[0m \u001b[0;34m=\u001b[0m \u001b[0mnp\u001b[0m\u001b[0;34m.\u001b[0m\u001b[0mwhere\u001b[0m\u001b[0;34m(\u001b[0m\u001b[0mnp\u001b[0m\u001b[0;34m.\u001b[0m\u001b[0mlogical_or\u001b[0m\u001b[0;34m(\u001b[0m\u001b[0mtheta_phaseClosed\u001b[0m\u001b[0;34m<\u001b[0m\u001b[0;34m-\u001b[0m\u001b[0mnp\u001b[0m\u001b[0;34m.\u001b[0m\u001b[0mpi\u001b[0m\u001b[0;34m/\u001b[0m\u001b[0;36m2\u001b[0m\u001b[0;34m,\u001b[0m \u001b[0mtheta_phaseClosed\u001b[0m\u001b[0;34m>\u001b[0m\u001b[0mnp\u001b[0m\u001b[0;34m.\u001b[0m\u001b[0mpi\u001b[0m\u001b[0;34m/\u001b[0m\u001b[0;36m2\u001b[0m\u001b[0;34m)\u001b[0m\u001b[0;34m)\u001b[0m\u001b[0;34m[\u001b[0m\u001b[0;36m0\u001b[0m\u001b[0;34m]\u001b[0m\u001b[0;34m\u001b[0m\u001b[0m\n\u001b[1;32m      4\u001b[0m \u001b[0;34m\u001b[0m\u001b[0m\n\u001b[1;32m      5\u001b[0m \u001b[0mgammapeak_indsClosed\u001b[0m \u001b[0;34m=\u001b[0m \u001b[0mnp\u001b[0m\u001b[0;34m.\u001b[0m\u001b[0mwhere\u001b[0m\u001b[0;34m(\u001b[0m\u001b[0mnp\u001b[0m\u001b[0;34m.\u001b[0m\u001b[0mlogical_and\u001b[0m\u001b[0;34m(\u001b[0m\u001b[0mgamma_phaseClosed\u001b[0m\u001b[0;34m>\u001b[0m\u001b[0;34m-\u001b[0m\u001b[0mnp\u001b[0m\u001b[0;34m.\u001b[0m\u001b[0mpi\u001b[0m\u001b[0;34m/\u001b[0m\u001b[0;36m2\u001b[0m\u001b[0;34m,\u001b[0m \u001b[0mgamma_phaseClosed\u001b[0m\u001b[0;34m<\u001b[0m\u001b[0mnp\u001b[0m\u001b[0;34m.\u001b[0m\u001b[0mpi\u001b[0m\u001b[0;34m/\u001b[0m\u001b[0;36m2\u001b[0m\u001b[0;34m)\u001b[0m\u001b[0;34m)\u001b[0m\u001b[0;34m[\u001b[0m\u001b[0;36m0\u001b[0m\u001b[0;34m]\u001b[0m\u001b[0;34m\u001b[0m\u001b[0m\n",
      "\u001b[0;31mNameError\u001b[0m: name 'theta_phaseClosed' is not defined"
     ]
    }
   ],
   "source": [
    "#peaks and troughs for each wave in the closed state\n",
    "thetapeak_indsClosed = np.where(np.logical_and(theta_phaseClosed>-np.pi/2, theta_phaseClosed<np.pi/2))[0]\n",
    "thetatrough_indsClosed = np.where(np.logical_or(theta_phaseClosed<-np.pi/2, theta_phaseClosed>np.pi/2))[0]\n",
    "\n",
    "gammapeak_indsClosed = np.where(np.logical_and(gamma_phaseClosed>-np.pi/2, gamma_phaseClosed<np.pi/2))[0]\n",
    "gammatrough_indsClosed = np.where(np.logical_or(gamma_phaseClosed<-np.pi/2, gamma_phaseClosed>np.pi/2))[0]\n",
    "\n",
    "alphapeak_indsClosed = np.where(np.logical_and(alpha_phaseClosed>-np.pi/2, alpha_phaseClosed<np.pi/2))[0]\n",
    "alphatrough_indsClosed = np.where(np.logical_or(alpha_phaseClosed<-np.pi/2, alpha_phaseClosed>np.pi/2))[0]\n",
    "\n",
    "betapeak_indsClosed = np.where(np.logical_and(beta_phaseClosed>-np.pi/2, beta_phaseClosed<np.pi/2))[0]\n",
    "betatrough_indsClosed = np.where(np.logical_or(beta_phaseClosed<-np.pi/2, beta_phaseClosed>np.pi/2))[0]"
   ]
  },
  {
   "cell_type": "code",
   "execution_count": 25,
   "metadata": {},
   "outputs": [],
   "source": [
    "#peaks and troughs for each wave in the sleep state\n",
    "thetapeak_indsSleep = np.where(np.logical_and(theta_phaseSleep>-np.pi/2, theta_phaseSleep<np.pi/2))[0]\n",
    "thetatrough_indsSleep = np.where(np.logical_or(theta_phaseSleep<-np.pi/2, theta_phaseSleep>np.pi/2))[0]\n",
    "\n",
    "gammapeak_indsSleep = np.where(np.logical_and(gamma_phaseSleep>-np.pi/2, gamma_phaseSleep<np.pi/2))[0]\n",
    "gammatrough_indsSleep = np.where(np.logical_or(gamma_phaseSleep<-np.pi/2, gamma_phaseSleep>np.pi/2))[0]\n",
    "\n",
    "alphapeak_indsSleep = np.where(np.logical_and(alpha_phaseSleep>-np.pi/2, alpha_phaseSleep<np.pi/2))[0]\n",
    "alphatrough_indsSleep = np.where(np.logical_or(alpha_phaseSleep<-np.pi/2, alpha_phaseSleep>np.pi/2))[0]\n",
    "\n",
    "betapeak_indsSleep = np.where(np.logical_and(beta_phaseSleep>-np.pi/2, beta_phaseSleep<np.pi/2))[0]\n",
    "betatrough_indsSleep = np.where(np.logical_or(beta_phaseSleep<-np.pi/2, beta_phaseSleep>np.pi/2))[0]"
   ]
  },
  {
   "cell_type": "code",
   "execution_count": null,
   "metadata": {},
   "outputs": [],
   "source": []
  }
 ],
 "metadata": {
  "kernelspec": {
   "display_name": "Python 3",
   "language": "python",
   "name": "python3"
  },
  "language_info": {
   "codemirror_mode": {
    "name": "ipython",
    "version": 3
   },
   "file_extension": ".py",
   "mimetype": "text/x-python",
   "name": "python",
   "nbconvert_exporter": "python",
   "pygments_lexer": "ipython3",
   "version": "3.6.5"
  }
 },
 "nbformat": 4,
 "nbformat_minor": 2
}
